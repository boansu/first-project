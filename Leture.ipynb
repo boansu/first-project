{
 "cells": [
  {
   "cell_type": "markdown",
   "metadata": {},
   "source": [
    "Print Formatting"
   ]
  },
  {
   "cell_type": "code",
   "execution_count": 1,
   "metadata": {},
   "outputs": [
    {
     "name": "stdout",
     "output_type": "stream",
     "text": [
      "This is a string\n"
     ]
    }
   ],
   "source": [
    "print 'This is a string'"
   ]
  },
  {
   "cell_type": "code",
   "execution_count": 5,
   "metadata": {},
   "outputs": [
    {
     "name": "stdout",
     "output_type": "stream",
     "text": [
      "Place my variable here: 13.13\n"
     ]
    }
   ],
   "source": [
    "s = 13.13\n",
    "\n",
    "print 'Place my variable here: %s' %(s)"
   ]
  },
  {
   "cell_type": "code",
   "execution_count": 9,
   "metadata": {},
   "outputs": [
    {
     "name": "stdout",
     "output_type": "stream",
     "text": [
      "Floating point number: 13.14\n",
      "Floating point number: 13.145\n",
      "Floating point number: 13.1450000000\n",
      "Floating point number:                    13.145\n"
     ]
    }
   ],
   "source": [
    "print 'Floating point number: %1.2f' %(13.145)\n",
    "print 'Floating point number: %1.3f' %(13.145)\n",
    "print 'Floating point number: %1.10f' %(13.145)\n",
    "print 'Floating point number: %25.3f' %(13.145)"
   ]
  },
  {
   "cell_type": "code",
   "execution_count": 10,
   "metadata": {},
   "outputs": [
    {
     "name": "stdout",
     "output_type": "stream",
     "text": [
      "Convert to string 123\n"
     ]
    }
   ],
   "source": [
    "print 'Convert to string %r' %(123)"
   ]
  },
  {
   "cell_type": "code",
   "execution_count": 11,
   "metadata": {},
   "outputs": [
    {
     "name": "stdout",
     "output_type": "stream",
     "text": [
      "First: hi!, Second: two, Third 3\n"
     ]
    }
   ],
   "source": [
    "print 'First: %s, Second: %s, Third %s' %('hi!','two',3)"
   ]
  },
  {
   "cell_type": "code",
   "execution_count": 13,
   "metadata": {},
   "outputs": [
    {
     "name": "stdout",
     "output_type": "stream",
     "text": [
      " First: inserted Second: two! Third: inserted\n"
     ]
    }
   ],
   "source": [
    "print 'First: {x} Second: {y} Third: {x}'.format(x='inserted', y='two!')"
   ]
  },
  {
   "cell_type": "code",
   "execution_count": 14,
   "metadata": {
    "collapsed": true
   },
   "outputs": [],
   "source": [
    "from __future__ import print_function"
   ]
  },
  {
   "cell_type": "code",
   "execution_count": 15,
   "metadata": {},
   "outputs": [
    {
     "name": "stdout",
     "output_type": "stream",
     "text": [
      "hello\n"
     ]
    }
   ],
   "source": [
    "print('hello')"
   ]
  },
  {
   "cell_type": "code",
   "execution_count": 16,
   "metadata": {},
   "outputs": [
    {
     "name": "stdout",
     "output_type": "stream",
     "text": [
      "One: INSERT!\n"
     ]
    }
   ],
   "source": [
    "print('One: {x}'.format(x='INSERT!'))"
   ]
  },
  {
   "cell_type": "code",
   "execution_count": 1,
   "metadata": {},
   "outputs": [
    {
     "name": "stdout",
     "output_type": "stream",
     "text": [
      "hello, Hank\n"
     ]
    }
   ],
   "source": [
    "name = \"Hank\"\n",
    "print 'hello, %s' %(name)"
   ]
  },
  {
   "cell_type": "code",
   "execution_count": 3,
   "metadata": {},
   "outputs": [
    {
     "name": "stdout",
     "output_type": "stream",
     "text": [
      "Hank is 74 and 180 tall.\n"
     ]
    }
   ],
   "source": [
    "wight = 74\n",
    "hight = 180\n",
    "name =  'Hank'\n",
    "print '%s is %s and %s tall.' %(name, wight, hight)"
   ]
  },
  {
   "cell_type": "code",
   "execution_count": 4,
   "metadata": {},
   "outputs": [
    {
     "name": "stdout",
     "output_type": "stream",
     "text": [
      "My name is Sharlyn, 28 years old.\n"
     ]
    }
   ],
   "source": [
    "name = 'Sharlyn'\n",
    "age = 28\n",
    "print 'My name is {name}, {age} years old.'.format(name=name,age=age)"
   ]
  },
  {
   "cell_type": "code",
   "execution_count": 18,
   "metadata": {},
   "outputs": [
    {
     "name": "stdout",
     "output_type": "stream",
     "text": [
      "The number is 13.44\n",
      "The number is      13.44\n",
      "The number is  13.444\n",
      "The number is 13.44\n"
     ]
    }
   ],
   "source": [
    "number1 = 13.4445\n",
    "print 'The number is %1.2f' %(number1)\n",
    "print 'The number is %10.2f' %(number1)\n",
    "print 'The number is %7.3f' %(number1)\n",
    "print 'The number is %4.2f' %(number1)"
   ]
  },
  {
   "cell_type": "code",
   "execution_count": null,
   "metadata": {
    "collapsed": true
   },
   "outputs": [],
   "source": []
  }
 ],
 "metadata": {
  "kernelspec": {
   "display_name": "Python 2",
   "language": "python",
   "name": "python2"
  },
  "language_info": {
   "codemirror_mode": {
    "name": "ipython",
    "version": 2
   },
   "file_extension": ".py",
   "mimetype": "text/x-python",
   "name": "python",
   "nbconvert_exporter": "python",
   "pygments_lexer": "ipython2",
   "version": "2.7.14"
  }
 },
 "nbformat": 4,
 "nbformat_minor": 2
}
